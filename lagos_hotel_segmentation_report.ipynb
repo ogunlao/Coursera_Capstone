{
 "cells": [
  {
   "cell_type": "markdown",
   "metadata": {},
   "source": [
    "# Identifying Hotels with Similar Facilities in the City of Lagos, Nigeria"
   ]
  },
  {
   "cell_type": "markdown",
   "metadata": {},
   "source": [
    "## Introduction"
   ]
  },
  {
   "cell_type": "markdown",
   "metadata": {},
   "source": [
    "Lagos is the commercial city and the second most populous city in Nigeria. It has a thriving business community and welcomes people from various places within and outside Nigeria for business. Due to this, Hotels and Lodgement areas are good businesses which have opportunity to sell their market and create comfort. These hotels have varying grades, facilities, room sizes etc. Most times, customers clutter on the Island (the rich communities of Lagos)  with the idea that the best hotels can only be found there. By creating a cluster using their facilities, customer ratings and room sizes, customers can see Hotels in the same category domiciled in other areas of Lagos where they can still have the same comfort, reducing congestion on the Lagos Island and also creating diversity in commerce.\n",
    "\n",
    "The target audience are visitors who would like to compare hotels in various areas based on services they offer and facilities they have."
   ]
  },
  {
   "cell_type": "markdown",
   "metadata": {},
   "source": [
    "## Data"
   ]
  },
  {
   "cell_type": "markdown",
   "metadata": {},
   "source": [
    "1. <a href='https://en.wikipedia.org/wiki/List_of_Lagos_State_local_government_areas_by_population'>\n",
    "        Wikipedia Page of Lagos State Local Government Areas (LGAs)\n",
    "        </a>  \n",
    "        This page contains the names of the lagos state local governments and the population of this area. This would help at the initial stage to know different areas to search for hotels in Lagos.\n",
    " \n",
    "2. <a href='https://api.foursquare.com'>FourSquare API</a>  \n",
    "The foursquare api would be used to collect data about hotels in the different LGAs of Lagos. The data collected would include location, address, category and name of hotels.\n",
    "  \n",
    "3. <a href='https://hotels.ng/'>Hotels.ng</a>  \n",
    "Hotels.ng is the leading online hotels booking agency in Nigeria. There have a platform that can produce the facilities data and rating for each hotel identified using the foursuare api. The have an api which I intend to utilize if open for use.\n",
    " \n",
    "Update: I could not use the api as it was not available for use by an external party. I had to crawl the data myself.\n",
    "\n",
    "Facilities include restaurant, bar, cable tv, spa e.t.c.\n",
    "\n",
    "I would perform a one-hot-encoding for each facility and assign to each hotel. These facilities would be used to cluster hotels together so as to learn similar hotels with the same facilities and suffisticatedness."
   ]
  },
  {
   "cell_type": "markdown",
   "metadata": {},
   "source": [
    "## Methodology"
   ]
  },
  {
   "cell_type": "markdown",
   "metadata": {},
   "source": [
    "1. Firstly, I imported the list of Local Government Areas(LGAs) in Lagos with their population size and displayed them on a map (using folium) to have a feel of the city and how populated it is.\n",
    "2. Next, I searched for hotels around a 3000m range for the first LGA, to get an idea of how to get out features from the JSON file returned, before automating the process for other LGAs\n",
    "3. Created functions to get the data for other LGAS\n",
    "4. Next, I diplayed the hotels on a map to show thier various locations in Lagos\n",
    "5. I joined the facilities data gotten from hotels.ng to the dataframe and performed a onehot encoding\n",
    "6. I then cleaned the data since there were duplicates of facilities in some instances. I also merged similar facilities  \n",
    "I was left with 92 unique facilities to explore\n",
    "  \n",
    "   "
   ]
  },
  {
   "cell_type": "markdown",
   "metadata": {},
   "source": [
    "Exploratory Data Analysis"
   ]
  },
  {
   "cell_type": "markdown",
   "metadata": {},
   "source": [
    "1. Displayed the locations of the local governments on the map to show the areas covered by each local government and its population as at the time of data gathering. This will give an idea of the area considered in the project for hotels\n",
    "2. Afterwards, I displayed the hotels in each area identifying them with different colours\n",
    "3. The most occuring facilities were as follows\n",
    "\n",
    "Facility| Frequency\n",
    "------------- |-------------\n",
    "Air Conditioning          |105\n",
    "Security                  |103\n",
    "Bar                       |102\n",
    "Restaurant                |97\n",
    "24 hours Electricity      |91\n",
    "Adequate Parking Space    |83\n",
    "Television                |77\n",
    "Wireless Internet         |68\n",
    "Room service 24h          |51\n",
    "Swimming Pool             |51\n",
    "Cable TV                  |48\n",
    "\n",
    "A bar chart of the top 10 facilities was created."
   ]
  },
  {
   "cell_type": "markdown",
   "metadata": {},
   "source": [
    "### Machine Learning Algorithm"
   ]
  },
  {
   "cell_type": "markdown",
   "metadata": {},
   "source": [
    "K-means clustering was used in the project due to its simplicity and fexibility. It would enable the model to group similar hotels together according to the facilities they have.\n",
    "\n",
    "I used 5 clusters in the algorithm."
   ]
  },
  {
   "cell_type": "markdown",
   "metadata": {},
   "source": [
    "## Results"
   ]
  },
  {
   "cell_type": "markdown",
   "metadata": {},
   "source": [
    "The K means algorith produces some insights about the facilities in each of the clusters.\n",
    "\n",
    "* 20 hotels in cluster 0\n",
    "* 22 hotels in cluster 1\n",
    "* 17 hotels in cluster 2\n",
    "* 33 hotels in cluster 3\n",
    "* 27 hotels in cluster 4\n"
   ]
  },
  {
   "cell_type": "markdown",
   "metadata": {},
   "source": [
    "Major Highlights of Cluster 0 Hotels.  \n",
    "There is Cable TV, 24 hours Electricity, with security, a bar and wireless internet in some. The rooms have Air conditioning."
   ]
  },
  {
   "cell_type": "markdown",
   "metadata": {},
   "source": [
    "Major Highlights of Cluster 1 Hotels.  \n",
    "There is Wireless Internet and 24 hours electricity, with security, a bar and restaurant and pool. The rooms have Air conditioning is present."
   ]
  },
  {
   "cell_type": "markdown",
   "metadata": {},
   "source": [
    "Major Highlights of Cluster 2 Hotels.  \n",
    "There is Adequate parking space, Security with Gym and Swimming Pool, restaurant. Some have Bar."
   ]
  },
  {
   "cell_type": "markdown",
   "metadata": {},
   "source": [
    "Major Highlights of Cluster 3 Hotels.  \n",
    "There is AC and Cable TV with Refridgerator. No dry cleaning service. Adequate parking space in  most of the hotels"
   ]
  },
  {
   "cell_type": "markdown",
   "metadata": {},
   "source": [
    "Major Highlights of Cluster 4 Hotels.  \n",
    "Security and Adequate Parking Space in most, with Bar. No cable TV but Television is available in most of the hotels in this cluster. You can be lucky to find luggage storage facility and dry cleaning service."
   ]
  },
  {
   "cell_type": "markdown",
   "metadata": {},
   "source": [
    "## Discussion"
   ]
  },
  {
   "cell_type": "markdown",
   "metadata": {},
   "source": [
    "* Cluster 1 and 2 are the most sophisticated in the hotel clusters having GYm, wireless internet and Gym.\n",
    "* Other clusters can be considered if you do not have much funds.\n",
    "* One of the observations I made is that one cannot decide on what the algorith learns or how it should cluster. I could only create insight from its output.\n",
    "* Recommendation:\n",
    "The data gotten from hotels.ng were incomplete. Some facilities that some hotels have may not have been listed and could have given false values. It is recommended to update the facilities for each hotel if it is to be used for a commercial venture."
   ]
  },
  {
   "cell_type": "markdown",
   "metadata": {},
   "source": [
    "## Conclusion"
   ]
  },
  {
   "cell_type": "markdown",
   "metadata": {},
   "source": [
    "Creating hotel segments can give insights to customers about the different kinds of facilities available and what to go for based on funds and comfortability. This project showed how this insight can be gotten using data science."
   ]
  },
  {
   "cell_type": "markdown",
   "metadata": {},
   "source": [
    "This project was created for the IBM Data Science Capstone Project on Cousera.\n",
    "For any enquiries, contact sendo41[at]gmail.com\n",
    "\n",
    "Thank you."
   ]
  },
  {
   "cell_type": "code",
   "execution_count": null,
   "metadata": {},
   "outputs": [],
   "source": []
  }
 ],
 "metadata": {
  "kernelspec": {
   "display_name": "Python 3",
   "language": "python",
   "name": "python3"
  },
  "language_info": {
   "codemirror_mode": {
    "name": "ipython",
    "version": 3
   },
   "file_extension": ".py",
   "mimetype": "text/x-python",
   "name": "python",
   "nbconvert_exporter": "python",
   "pygments_lexer": "ipython3",
   "version": "3.6.6"
  }
 },
 "nbformat": 4,
 "nbformat_minor": 2
}
