{
 "cells": [
  {
   "cell_type": "markdown",
   "metadata": {},
   "source": [
    "# Identifying Hotels with Similar Facilities in the City of Lagos, Nigeria"
   ]
  },
  {
   "cell_type": "markdown",
   "metadata": {},
   "source": [
    "## Introduction"
   ]
  },
  {
   "cell_type": "markdown",
   "metadata": {},
   "source": [
    "Lagos is the commercial city and the second most populous city in Nigeria. It has a thriving business community and welcomes people from various places within and outside Nigeria for business. Due to this, Hotels and Lodgement areas are good businesses which have opportunity to sell their market and create comfort. These hotels have varying grades, facilities, room sizes etc. Most times, customers clutter on the Island (the rich communities of Lagos)  with the idea that the best hotels can only be found there. By creating a cluster using their facilities, customer ratings and room sizes, customers can see Hotels in the same category domiciled in other areas of Lagos where they can still have the same comfort, reducing congestion on the Lagos Island and also creating diversity in commerce."
   ]
  },
  {
   "cell_type": "markdown",
   "metadata": {},
   "source": [
    "## Data"
   ]
  },
  {
   "cell_type": "markdown",
   "metadata": {},
   "source": [
    "<div>\n",
    "<ol>\n",
    "    <li>\n",
    "        <a href='https://en.wikipedia.org/wiki/List_of_Lagos_State_local_government_areas_by_population'>\n",
    "        Wikipedia Page of Lagos State Local Government Areas (LGAs)\n",
    "        </a>  \n",
    "This page contains the names of the lagos state local governments and the population of this area. This would help at the initial stage to know different areas to search for hotels in Lagos.\n",
    "    </li>\n",
    "    \n",
    "   <li>\n",
    "       <a href='https://api.foursquare.com'>FourSquare API</a>  \n",
    "The foursquare api would be used to collect data about hotels in the different LGAs of Lagos. The data collected would include location, address, category and name of hotels.\n",
    "    </li>\n",
    "H\n",
    "    </li>\n",
    "    <li>\n",
    "        <a href='https://hotels.ng/'>Hotels.ng</a>  \n",
    "        Hotels.ng is the leading online hotels booking agency in Nigeria. There have a platform that can produce the facilities data and rating for each hotel identified using the foursuare api. The have an api which I intend to utilize if open for use.\n",
    "    </li>\n",
    "</ol>\n",
    "</div>\n",
    "Facilities include restaurant, bar, cable tv, spa e.t.c.\n",
    "\n",
    "I would perform a one-hot-encoding for each facility and assign to each hotel. These facilities would be used to cluster hotels together so as to learn similar hotels with the same facilities and suffisticatedness."
   ]
  },
  {
   "cell_type": "code",
   "execution_count": null,
   "metadata": {},
   "outputs": [],
   "source": []
  }
 ],
 "metadata": {
  "kernelspec": {
   "display_name": "Python 3",
   "language": "python",
   "name": "python3"
  },
  "language_info": {
   "codemirror_mode": {
    "name": "ipython",
    "version": 3
   },
   "file_extension": ".py",
   "mimetype": "text/x-python",
   "name": "python",
   "nbconvert_exporter": "python",
   "pygments_lexer": "ipython3",
   "version": "3.6.4"
  }
 },
 "nbformat": 4,
 "nbformat_minor": 2
}
